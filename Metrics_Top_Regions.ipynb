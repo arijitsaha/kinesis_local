{
 "cells": [
  {
   "cell_type": "markdown",
   "metadata": {},
   "source": [
    "## Top N Region Analysis"
   ]
  },
  {
   "cell_type": "code",
   "execution_count": 1,
   "metadata": {},
   "outputs": [],
   "source": [
    "import boto3\n",
    "import json\n",
    "from collections import Counter"
   ]
  },
  {
   "cell_type": "code",
   "execution_count": 2,
   "metadata": {},
   "outputs": [],
   "source": [
    "stream_name = 'order_created'\n",
    "topn = 10"
   ]
  },
  {
   "cell_type": "code",
   "execution_count": 3,
   "metadata": {},
   "outputs": [],
   "source": [
    "# end point url is critical for local testing\n",
    "kinesis_client = boto3.client('kinesis', endpoint_url='http://localhost:4568', region_name='us-east-1'\n",
    "                                  , aws_access_key_id='x',aws_secret_access_key='x')\n",
    "# get the shard id\n",
    "response = kinesis_client.describe_stream(StreamName=stream_name)\n",
    "shard_id = response['StreamDescription']['Shards'][0]['ShardId']\n",
    "# get the starting shard iterator. Last Sequence number iterator can also be used to start from the last read record\n",
    "shard_iterator = kinesis_client.get_shard_iterator(StreamName=stream_name, ShardId=shard_id\n",
    "                                                   , ShardIteratorType='TRIM_HORIZON')['ShardIterator']\n",
    "ship_from_region = []\n",
    "\n",
    "while True:\n",
    "    out = kinesis_client.get_records(ShardIterator=shard_iterator, Limit=10)\n",
    "        \n",
    "    if not out['Records']:\n",
    "        break;\n",
    "\n",
    "    for rec in out[\"Records\"]:\n",
    "        jdat = json.loads(rec[\"Data\"])\n",
    "        ship_from_region.append(jdat['ship_from_region'])\n",
    "            \n",
    "    shard_iterator = out[\"NextShardIterator\"]\n",
    "    \n",
    "#print ship_from_region"
   ]
  },
  {
   "cell_type": "code",
   "execution_count": 4,
   "metadata": {},
   "outputs": [],
   "source": [
    "region_counts = Counter(ship_from_region)"
   ]
  },
  {
   "cell_type": "code",
   "execution_count": 5,
   "metadata": {},
   "outputs": [
    {
     "data": {
      "text/plain": [
       "[(u'reg69', 42),\n",
       " (u'reg85', 40),\n",
       " (u'reg76', 38),\n",
       " (u'reg23', 37),\n",
       " (u'reg32', 37),\n",
       " (u'reg13', 36),\n",
       " (u'reg72', 35),\n",
       " (u'reg47', 34),\n",
       " (u'reg25', 33),\n",
       " (u'reg89', 33)]"
      ]
     },
     "execution_count": 5,
     "metadata": {},
     "output_type": "execute_result"
    }
   ],
   "source": [
    "region_counts.most_common(topn)"
   ]
  },
  {
   "cell_type": "code",
   "execution_count": null,
   "metadata": {},
   "outputs": [],
   "source": []
  }
 ],
 "metadata": {
  "kernelspec": {
   "display_name": "Python 2",
   "language": "python",
   "name": "python2"
  },
  "language_info": {
   "codemirror_mode": {
    "name": "ipython",
    "version": 2
   },
   "file_extension": ".py",
   "mimetype": "text/x-python",
   "name": "python",
   "nbconvert_exporter": "python",
   "pygments_lexer": "ipython2",
   "version": "2.7.15"
  }
 },
 "nbformat": 4,
 "nbformat_minor": 2
}
